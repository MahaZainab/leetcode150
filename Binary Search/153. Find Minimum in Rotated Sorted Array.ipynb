{
 "cells": [
  {
   "cell_type": "markdown",
   "metadata": {},
   "source": [
    "# 153. Find Minimum in Rotated Sorted Array"
   ]
  },
  {
   "cell_type": "markdown",
   "metadata": {},
   "source": [
    "### Initial solution that came in my mind, however it was not completely correct"
   ]
  },
  {
   "cell_type": "code",
   "execution_count": 2,
   "metadata": {},
   "outputs": [],
   "source": [
    "class Solution:\n",
    "    def findMin(self, nums: list[int]) -> int:\n",
    "        first=0\n",
    "        last=len(nums)-1\n",
    "        while(first<last):\n",
    "            mid=(first+last)//2\n",
    "            if nums[mid]>nums[first]:\n",
    "                first=mid+1\n",
    "            elif nums[mid]<nums[first] and nums[mid-1]>nums[first]:\n",
    "                return nums[mid]\n",
    "            else:\n",
    "                last=mid-1\n",
    "\n",
    "\n",
    "\n",
    "\n",
    "        "
   ]
  },
  {
   "cell_type": "markdown",
   "metadata": {},
   "source": [
    "## Here is the correct solution"
   ]
  },
  {
   "cell_type": "markdown",
   "metadata": {},
   "source": [
    "# Key Note: Shift+tab to remove tabs from the code"
   ]
  },
  {
   "cell_type": "code",
   "execution_count": null,
   "metadata": {},
   "outputs": [],
   "source": []
  },
  {
   "cell_type": "code",
   "execution_count": 3,
   "metadata": {},
   "outputs": [],
   "source": [
    "def findMin(self, nums: list[int]) -> int:\n",
    "    first=0\n",
    "    last=len(nums)-1\n",
    "    while(first<last):\n",
    "        mid=(first+last)//2\n",
    "        if nums[mid]>nums[last]:\n",
    "            first=mid+1\n",
    "        else:\n",
    "            last=mid\n",
    "    return nums[first]\n"
   ]
  },
  {
   "cell_type": "markdown",
   "metadata": {},
   "source": []
  }
 ],
 "metadata": {
  "kernelspec": {
   "display_name": "Python 3",
   "language": "python",
   "name": "python3"
  },
  "language_info": {
   "codemirror_mode": {
    "name": "ipython",
    "version": 3
   },
   "file_extension": ".py",
   "mimetype": "text/x-python",
   "name": "python",
   "nbconvert_exporter": "python",
   "pygments_lexer": "ipython3",
   "version": "3.12.5"
  }
 },
 "nbformat": 4,
 "nbformat_minor": 2
}
