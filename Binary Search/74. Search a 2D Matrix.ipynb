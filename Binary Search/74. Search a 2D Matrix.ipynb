{
 "cells": [
  {
   "cell_type": "code",
   "execution_count": null,
   "metadata": {},
   "outputs": [],
   "source": []
  },
  {
   "cell_type": "markdown",
   "metadata": {},
   "source": [
    "## 74. Search a 2D Matrix"
   ]
  },
  {
   "cell_type": "markdown",
   "metadata": {},
   "source": [
    "You are given an m x n integer matrix matrix with the following two properties:\n",
    "\n",
    "Each row is sorted in non-decreasing order.\n",
    "The first integer of each row is greater than the last integer of the previous row.\n",
    "Given an integer target, return true if target is in matrix or false otherwise.\n",
    "\n",
    "You must write a solution in O(log(m * n)) time complexity."
   ]
  },
  {
   "cell_type": "markdown",
   "metadata": {},
   "source": []
  }
 ],
 "metadata": {
  "language_info": {
   "name": "python"
  }
 },
 "nbformat": 4,
 "nbformat_minor": 2
}
