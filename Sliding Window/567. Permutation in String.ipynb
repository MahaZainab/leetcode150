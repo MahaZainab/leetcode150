{
 "cells": [
  {
   "cell_type": "markdown",
   "metadata": {},
   "source": [
    "# 567. Permutation in String"
   ]
  },
  {
   "cell_type": "markdown",
   "metadata": {},
   "source": [
    "## Description:"
   ]
  },
  {
   "cell_type": "markdown",
   "metadata": {},
   "source": [
    "Given two strings s1 and s2, return true if s2 contains a \n",
    "permutation\n",
    " of s1, or false otherwise.\n",
    "\n",
    "In other words, return true if one of s1's permutations is the substring of s2."
   ]
  },
  {
   "cell_type": "markdown",
   "metadata": {},
   "source": [
    "## Examples:"
   ]
  },
  {
   "attachments": {
    "image.png": {
     "image/png": "[encoded data removed]"
    }
   },
   "cell_type": "markdown",
   "metadata": {},
   "source": [
    "![image.png](attachment:image.png)"
   ]
  },
  {
   "cell_type": "markdown",
   "metadata": {},
   "source": [
    "## Constraints:"
   ]
  },
  {
   "attachments": {
    "image.png": {
     "image/png": "[encoded data removed]"
    }
   },
   "cell_type": "markdown",
   "metadata": {},
   "source": [
    "![image.png](attachment:image.png)"
   ]
  },
  {
   "cell_type": "markdown",
   "metadata": {},
   "source": [
    "## Solution:"
   ]
  },
  {
   "cell_type": "markdown",
   "metadata": {},
   "source": [
    "There are multiple solutions exists to solve this problem. \n",
    "\n",
    "we will see different solutions one  by one\n",
    "\n",
    "## 1. Brute Force:"
   ]
  },
  {
   "cell_type": "code",
   "execution_count": 1,
   "metadata": {},
   "outputs": [],
   "source": [
    "class Solution:\n",
    "    def checkInclusion(self, s1: str, s2: str) -> bool:\n",
    "        s1 = sorted(s1)\n",
    "\n",
    "        for i in range(len(s2)):\n",
    "            for j in range(i, len(s2)):\n",
    "                subStr = s2[i : j + 1]\n",
    "                subStr = sorted(subStr)\n",
    "                if subStr == s1:\n",
    "                    return True\n",
    "        return False"
   ]
  },
  {
   "cell_type": "markdown",
   "metadata": {},
   "source": [
    "Time Complexity:O(n^3 logn)\n",
    "\n",
    "Space Complexity: O(n)\n"
   ]
  },
  {
   "cell_type": "markdown",
   "metadata": {},
   "source": [
    "## 2. Hash Table:"
   ]
  },
  {
   "cell_type": "code",
   "execution_count": 2,
   "metadata": {},
   "outputs": [],
   "source": [
    "class Solution:\n",
    "    def checkInclusion(self, s1: str, s2: str) -> bool:\n",
    "        count1 = {}\n",
    "        for c in s1:\n",
    "            count1[c] = 1 + count1.get(c, 0)\n",
    "        \n",
    "        need = len(count1)\n",
    "        for i in range(len(s2)):\n",
    "            count2, cur = {}, 0\n",
    "            for j in range(i, len(s2)):\n",
    "                count2[s2[j]] = 1 + count2.get(s2[j], 0)\n",
    "                if count1.get(s2[j], 0) < count2[s2[j]]:\n",
    "                    break\n",
    "                if count1.get(s2[j], 0) == count2[s2[j]]:\n",
    "                    cur += 1\n",
    "                if cur == need:\n",
    "                    return True\n",
    "        return False"
   ]
  },
  {
   "cell_type": "markdown",
   "metadata": {},
   "source": [
    "Time Complexity: O(m*n)\n",
    "Space complexity: O(n)\n",
    "\n",
    "Where n is the length of the string1 and m is the length of string2."
   ]
  },
  {
   "cell_type": "markdown",
   "metadata": {},
   "source": [
    "## 3. Sliding Window:"
   ]
  },
  {
   "cell_type": "code",
   "execution_count": 3,
   "metadata": {},
   "outputs": [],
   "source": [
    "class Solution:\n",
    "    def checkInclusion(self, s1: str, s2: str) -> bool:\n",
    "        if len(s1)>len(s2):\n",
    "            return False\n",
    "        s1Count, s2Count=[0]*26, [0]*26\n",
    "        for i in range(len(s1)):\n",
    "            s1Count[ord(s1[i])-ord('a')]+=1\n",
    "            s2Count[ord(s2[i])-ord('a')]+=1\n",
    "        \n",
    "        matches=0\n",
    "        for i in range(26):\n",
    "            matches+= ( 1 if s1Count[i] == s2Count[i] else 0)\n",
    "        \n",
    "        left=0\n",
    "        for right in range(len(s1), len(s2)):\n",
    "            if matches == 26:\n",
    "                return True\n",
    "            \n",
    "            index= ord(s2[right])- ord('a')\n",
    "            s2Count[index] +=1\n",
    "            if s1Count[index]== s2Count[index]:\n",
    "                matches+=1\n",
    "            elif s1Count[index]+1== s2Count[index]:\n",
    "                matches -=1\n",
    "\n",
    "            index= ord(s2[left])- ord('a')\n",
    "            s2Count[index] -=1\n",
    "            if s1Count[index]== s2Count[index]:\n",
    "                matches+=1\n",
    "            elif s1Count[index]-1== s2Count[index]:\n",
    "                matches -=1\n",
    "            left+=1\n",
    "        return matches ==26\n",
    "\n",
    "\n",
    "        "
   ]
  },
  {
   "cell_type": "markdown",
   "metadata": {},
   "source": [
    "Time Complexity: O(n)\n",
    "Space Co"
   ]
  },
  {
   "cell_type": "code",
   "execution_count": null,
   "metadata": {},
   "outputs": [],
   "source": []
  }
 ],
 "metadata": {
  "kernelspec": {
   "display_name": "Python 3",
   "language": "python",
   "name": "python3"
  },
  "language_info": {
   "codemirror_mode": {
    "name": "ipython",
    "version": 3
   },
   "file_extension": ".py",
   "mimetype": "text/x-python",
   "name": "python",
   "nbconvert_exporter": "python",
   "pygments_lexer": "ipython3",
   "version": "3.12.5"
  }
 },
 "nbformat": 4,
 "nbformat_minor": 2
}
