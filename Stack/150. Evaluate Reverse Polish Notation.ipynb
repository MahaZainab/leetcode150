{
 "cells": [
  {
   "cell_type": "code",
   "execution_count": null,
   "metadata": {},
   "outputs": [],
   "source": []
  },
  {
   "cell_type": "markdown",
   "metadata": {},
   "source": [
    "## 150. Evaluate Reverse Polish Notation"
   ]
  },
  {
   "cell_type": "markdown",
   "metadata": {},
   "source": [
    "You are given an array of strings tokens that represents an arithmetic expression in a Reverse Polish Notation.\n",
    "\n",
    "Evaluate the expression. Return an integer that represents the value of the expression.\n",
    "\n",
    "Note that:\n",
    "\n",
    "The valid operators are '+', '-', '*', and '/'.\n",
    "Each operand may be an integer or another expression.\n",
    "The division between two integers always truncates toward zero.\n",
    "There will not be any division by zero.\n",
    "The input represents a valid arithmetic expression in a reverse polish notation.\n",
    "The answer and all the intermediate calculations can be represented in a 32-bit integer."
   ]
  },
  {
   "cell_type": "markdown",
   "metadata": {},
   "source": []
  }
 ],
 "metadata": {
  "language_info": {
   "name": "python"
  }
 },
 "nbformat": 4,
 "nbformat_minor": 2
}
