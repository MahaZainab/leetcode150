{
 "cells": [
  {
   "cell_type": "markdown",
   "metadata": {},
   "source": [
    "##  1963. Minimum Number of Swaps to Make the String Balanced"
   ]
  },
  {
   "cell_type": "markdown",
   "metadata": {},
   "source": [
    "You are given a 0-indexed string s of even length n. The string consists of exactly n / 2 opening brackets '[' and n / 2 closing brackets ']'.\n",
    "\n",
    "A string is called balanced if and only if:\n",
    "\n",
    "It is the empty string, or\n",
    "It can be written as AB, where both A and B are balanced strings, or\n",
    "It can be written as [C], where C is a balanced string.\n",
    "You may swap the brackets at any two indices any number of times.\n",
    "\n",
    "Return the minimum number of swaps to make s balanced."
   ]
  },
  {
   "cell_type": "markdown",
   "metadata": {},
   "source": []
  }
 ],
 "metadata": {
  "language_info": {
   "name": "python"
  }
 },
 "nbformat": 4,
 "nbformat_minor": 2
}
