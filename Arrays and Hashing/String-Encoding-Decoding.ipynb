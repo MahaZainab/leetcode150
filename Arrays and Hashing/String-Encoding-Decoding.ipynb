{
 "cells": [
  {
   "cell_type": "code",
   "execution_count": 1,
   "metadata": {},
   "outputs": [],
   "source": [
    "def encode(strs)->str:\n",
    "    res=\"\"\n",
    "    for s in strs:\n",
    "        res+=str(len(s))+'#'+s\n",
    "    return res"
   ]
  },
  {
   "cell_type": "code",
   "execution_count": 3,
   "metadata": {},
   "outputs": [],
   "source": [
    "def decode(s)-> list[str]:\n",
    "    res=[]\n",
    "    i=0\n",
    "\n",
    "    while i < len(s):\n",
    "        j=i\n",
    "        while s[j]!='#':\n",
    "            j+=1\n",
    "            length= int(s[i:j])\n",
    "            i=j+1\n",
    "            j=i+length\n",
    "            res.append(s[i:j])\n",
    "            i=j\n",
    "\n",
    "    return res\n",
    "\n"
   ]
  },
  {
   "cell_type": "code",
   "execution_count": 4,
   "metadata": {},
   "outputs": [
    {
     "data": {
      "text/plain": [
       "'you'"
      ]
     },
     "execution_count": 4,
     "metadata": {},
     "output_type": "execute_result"
    }
   ],
   "source": [
    "input=  [\"leet\",\"code\",\"love\",\"you\"]\n",
    "encode(input)"
   ]
  },
  {
   "cell_type": "code",
   "execution_count": null,
   "metadata": {},
   "outputs": [],
   "source": []
  }
 ],
 "metadata": {
  "kernelspec": {
   "display_name": "Python 3",
   "language": "python",
   "name": "python3"
  },
  "language_info": {
   "codemirror_mode": {
    "name": "ipython",
    "version": 3
   },
   "file_extension": ".py",
   "mimetype": "text/x-python",
   "name": "python",
   "nbconvert_exporter": "python",
   "pygments_lexer": "ipython3",
   "version": "3.12.5"
  }
 },
 "nbformat": 4,
 "nbformat_minor": 2
}
