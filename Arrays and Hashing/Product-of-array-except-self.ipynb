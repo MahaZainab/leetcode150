{
 "cells": [
  {
   "cell_type": "code",
   "execution_count": null,
   "metadata": {},
   "outputs": [],
   "source": [
    "        result=[1]*len(nums)\n",
    "        prefix=1\n",
    "        for i in range(len(nums)):\n",
    "            result[i]=prefix\n",
    "            prefix *=nums[i]\n",
    "        postfix=1\n",
    "        for i in range(len(nums)-1, -1, -1):\n",
    "            result[i] *= postfix\n",
    "            postfix *=nums[i]\n",
    "        return result"
   ]
  }
 ],
 "metadata": {
  "language_info": {
   "name": "python"
  }
 },
 "nbformat": 4,
 "nbformat_minor": 2
}
